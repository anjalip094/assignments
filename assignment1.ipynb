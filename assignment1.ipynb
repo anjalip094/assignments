{
 "cells": [
  {
   "cell_type": "markdown",
   "id": "65100c84",
   "metadata": {},
   "source": [
    "# reading dataset to python environment"
   ]
  },
  {
   "cell_type": "code",
   "execution_count": 2,
   "id": "f7d33a84",
   "metadata": {},
   "outputs": [
    {
     "name": "stdout",
     "output_type": "stream",
     "text": [
      "      mpg  cylinders  displacement horsepower  weight  acceleration  \\\n",
      "0    18.0          8         307.0        130    3504          12.0   \n",
      "1    15.0          8         350.0        165    3693          11.5   \n",
      "2    18.0          8         318.0        150    3436          11.0   \n",
      "3    16.0          8         304.0        150    3433          12.0   \n",
      "4    17.0          8         302.0        140    3449          10.5   \n",
      "..    ...        ...           ...        ...     ...           ...   \n",
      "393  27.0          4         140.0         86    2790          15.6   \n",
      "394  44.0          4          97.0         52    2130          24.6   \n",
      "395  32.0          4         135.0         84    2295          11.6   \n",
      "396  28.0          4         120.0         79    2625          18.6   \n",
      "397  31.0          4         119.0         82    2720          19.4   \n",
      "\n",
      "     model year  origin                   car name  \n",
      "0            70       1  chevrolet chevelle malibu  \n",
      "1            70       1          buick skylark 320  \n",
      "2            70       1         plymouth satellite  \n",
      "3            70       1              amc rebel sst  \n",
      "4            70       1                ford torino  \n",
      "..          ...     ...                        ...  \n",
      "393          82       1            ford mustang gl  \n",
      "394          82       2                  vw pickup  \n",
      "395          82       1              dodge rampage  \n",
      "396          82       1                ford ranger  \n",
      "397          82       1                 chevy s-10  \n",
      "\n",
      "[398 rows x 9 columns]\n"
     ]
    }
   ],
   "source": [
    "import pandas as pd\n",
    "import numpy as np\n",
    "import matplotlib.pyplot as plt\n",
    "import seaborn as sns\n",
    "\n",
    "data1=pd.read_csv(r'C:\\Users\\Lenovo\\Desktop\\data science\\dataset\\auto-mpg.csv')\n",
    "print(data1)"
   ]
  },
  {
   "cell_type": "markdown",
   "id": "82df35e2",
   "metadata": {},
   "source": [
    "# displaying the names of columns"
   ]
  },
  {
   "cell_type": "code",
   "execution_count": 3,
   "id": "2c468523",
   "metadata": {},
   "outputs": [
    {
     "data": {
      "text/plain": [
       "Index(['mpg', 'cylinders', 'displacement', 'horsepower', 'weight',\n",
       "       'acceleration', 'model year', 'origin', 'car name'],\n",
       "      dtype='object')"
      ]
     },
     "execution_count": 3,
     "metadata": {},
     "output_type": "execute_result"
    }
   ],
   "source": [
    "data1.columns"
   ]
  },
  {
   "cell_type": "markdown",
   "id": "155bf09a",
   "metadata": {},
   "source": [
    "# to display the mean of each column"
   ]
  },
  {
   "cell_type": "code",
   "execution_count": 4,
   "id": "d52b8342",
   "metadata": {},
   "outputs": [
    {
     "data": {
      "text/plain": [
       "mpg               23.514573\n",
       "cylinders          5.454774\n",
       "displacement     193.425879\n",
       "weight          2970.424623\n",
       "acceleration      15.568090\n",
       "model year        76.010050\n",
       "origin             1.572864\n",
       "dtype: float64"
      ]
     },
     "execution_count": 4,
     "metadata": {},
     "output_type": "execute_result"
    }
   ],
   "source": [
    "data1.mean(axis=0)\n",
    "    "
   ]
  },
  {
   "cell_type": "markdown",
   "id": "14e96921",
   "metadata": {},
   "source": [
    "# check for null values"
   ]
  },
  {
   "cell_type": "code",
   "execution_count": 10,
   "id": "2ad2448b",
   "metadata": {},
   "outputs": [
    {
     "data": {
      "text/plain": [
       "mpg             0\n",
       "cylinders       0\n",
       "displacement    0\n",
       "horsepower      0\n",
       "weight          0\n",
       "acceleration    0\n",
       "model year      0\n",
       "origin          0\n",
       "car name        0\n",
       "dtype: int64"
      ]
     },
     "execution_count": 10,
     "metadata": {},
     "output_type": "execute_result"
    }
   ],
   "source": [
    "data1.isna().sum()"
   ]
  },
  {
   "cell_type": "code",
   "execution_count": 12,
   "id": "bb89527d",
   "metadata": {},
   "outputs": [
    {
     "name": "stdout",
     "output_type": "stream",
     "text": [
      "<class 'pandas.core.frame.DataFrame'>\n",
      "RangeIndex: 398 entries, 0 to 397\n",
      "Data columns (total 9 columns):\n",
      " #   Column        Non-Null Count  Dtype  \n",
      "---  ------        --------------  -----  \n",
      " 0   mpg           398 non-null    float64\n",
      " 1   cylinders     398 non-null    int64  \n",
      " 2   displacement  398 non-null    float64\n",
      " 3   horsepower    398 non-null    object \n",
      " 4   weight        398 non-null    int64  \n",
      " 5   acceleration  398 non-null    float64\n",
      " 6   model year    398 non-null    int64  \n",
      " 7   origin        398 non-null    int64  \n",
      " 8   car name      398 non-null    object \n",
      "dtypes: float64(3), int64(4), object(2)\n",
      "memory usage: 28.1+ KB\n",
      "None\n"
     ]
    }
   ],
   "source": [
    "print(data1.info())"
   ]
  },
  {
   "cell_type": "markdown",
   "id": "46fc0c93",
   "metadata": {},
   "source": [
    "# visualizations"
   ]
  },
  {
   "cell_type": "code",
   "execution_count": 13,
   "id": "746ef3e2",
   "metadata": {},
   "outputs": [],
   "source": [
    "#box plot"
   ]
  },
  {
   "cell_type": "code",
   "execution_count": 17,
   "id": "3c743c98",
   "metadata": {},
   "outputs": [
    {
     "data": {
      "text/plain": [
       "<AxesSubplot:>"
      ]
     },
     "execution_count": 17,
     "metadata": {},
     "output_type": "execute_result"
    },
    {
     "data": {
      "image/png": "[encoded data removed]",
      "text/plain": [
       "<Figure size 432x288 with 1 Axes>"
      ]
     },
     "metadata": {
      "needs_background": "light"
     },
     "output_type": "display_data"
    }
   ],
   "source": [
    "data2 = pd.DataFrame(data1, columns=['mpg', 'displacement', 'weight'])\n",
    "data2.plot.box(grid='True')"
   ]
  },
  {
   "cell_type": "code",
   "execution_count": 16,
   "id": "6faeca4c",
   "metadata": {},
   "outputs": [],
   "source": [
    "#scatter plot"
   ]
  },
  {
   "cell_type": "code",
   "execution_count": 24,
   "id": "8bc095c3",
   "metadata": {},
   "outputs": [
    {
     "data": {
      "text/plain": [
       "<AxesSubplot:xlabel='mpg', ylabel='acceleration'>"
      ]
     },
     "execution_count": 24,
     "metadata": {},
     "output_type": "execute_result"
    },
    {
     "data": {
      "image/png": "[encoded data removed]",
      "text/plain": [
       "<Figure size 432x288 with 1 Axes>"
      ]
     },
     "metadata": {
      "needs_background": "light"
     },
     "output_type": "display_data"
    }
   ],
   "source": [
    "data3 = pd.DataFrame(data1, columns=['mpg','acceleration'])\n",
    "data3.plot.scatter(x='mpg', y='acceleration')"
   ]
  },
  {
   "cell_type": "code",
   "execution_count": 31,
   "id": "787fc036",
   "metadata": {},
   "outputs": [],
   "source": [
    "#violin plot"
   ]
  },
  {
   "cell_type": "code",
   "execution_count": 34,
   "id": "88d99dbd",
   "metadata": {},
   "outputs": [
    {
     "data": {
      "image/png": "[encoded data removed]",
      "text/plain": [
       "<Figure size 432x288 with 1 Axes>"
      ]
     },
     "metadata": {
      "needs_background": "light"
     },
     "output_type": "display_data"
    }
   ],
   "source": [
    "mpg=data1.mpg\n",
    "displacement=data1.displacement\n",
    "weight=data1.weight\n",
    "fig, ax = plt.subplots()\n",
    "ax.violinplot([mpg, displacement, weight])\n",
    "ax.set_title('Violin Plot')\n",
    "plt.show()"
   ]
  },
  {
   "cell_type": "code",
   "execution_count": null,
   "id": "cff90d85",
   "metadata": {},
   "outputs": [],
   "source": []
  }
 ],
 "metadata": {
  "kernelspec": {
   "display_name": "Python 3",
   "language": "python",
   "name": "python3"
  },
  "language_info": {
   "codemirror_mode": {
    "name": "ipython",
    "version": 3
   },
   "file_extension": ".py",
   "mimetype": "text/x-python",
   "name": "python",
   "nbconvert_exporter": "python",
   "pygments_lexer": "ipython3",
   "version": "3.8.8"
  }
 },
 "nbformat": 4,
 "nbformat_minor": 5
}
